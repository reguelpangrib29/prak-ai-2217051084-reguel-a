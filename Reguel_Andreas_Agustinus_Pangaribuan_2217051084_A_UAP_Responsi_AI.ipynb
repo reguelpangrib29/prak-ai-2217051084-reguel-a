{
  "nbformat": 4,
  "nbformat_minor": 0,
  "metadata": {
    "colab": {
      "provenance": [],
      "toc_visible": true,
      "authorship_tag": "ABX9TyMz09Nn1TXLBkd7NMyz347S",
      "include_colab_link": true
    },
    "kernelspec": {
      "name": "python3",
      "display_name": "Python 3"
    },
    "language_info": {
      "name": "python"
    }
  },
  "cells": [
    {
      "cell_type": "markdown",
      "metadata": {
        "id": "view-in-github",
        "colab_type": "text"
      },
      "source": [
        "<a href=\"https://colab.research.google.com/github/reguelpangrib29/prak-ai-2217051084-reguel-a/blob/main/Reguel_Andreas_Agustinus_Pangaribuan_2217051084_A_UAP_Responsi_AI.ipynb\" target=\"_parent\"><img src=\"https://colab.research.google.com/assets/colab-badge.svg\" alt=\"Open In Colab\"/></a>"
      ]
    },
    {
      "cell_type": "markdown",
      "source": [
        "# TEMA SOAL"
      ],
      "metadata": {
        "id": "fOsIfbNHAyx8"
      }
    },
    {
      "cell_type": "markdown",
      "source": [
        "NPM : 2217051084 --> Akhiran angka '4' -> Tema Soal 2\n",
        "\n",
        "Tema Soal :\n",
        "2. Menentukan Pemain Bola Terbaik\n",
        "\n",
        "  Anda adalah seorang pelatih sebuah klub sepak bola dan sedang\n",
        "  menentukan pemain terbaik di klub untuk mengikuti pertandingan\n",
        "  selanjutnya. Menggunakan metode AHP, bagaimana anda akan\n",
        "  menentukan pemain terbaik? Gunakan kriteria dan pemain yang ingin\n",
        "  anda nilai.\n"
      ],
      "metadata": {
        "id": "5VlK2lw5A2Ee"
      }
    },
    {
      "cell_type": "code",
      "source": [
        "# Menerapkan Metode AHP untuk menentukan pemain bola terbaik"
      ],
      "metadata": {
        "id": "RXL4V6bKBRUm"
      },
      "execution_count": 10,
      "outputs": []
    },
    {
      "cell_type": "markdown",
      "source": [
        "1. Mendefinisikan Hierarki Keputusan\n",
        "\n",
        "*   Tujuan : Menentukan pemain terbaik klub sepak bola.\n",
        "*   Kriteria : Kriteria yang relevan (Shooting Accuracy, Passing Accuracy, Defensive Skiils, Stamina).\n",
        "*   Alternatif : Memilih player untuk evaluasi (Cristiano Ronaldo, Lionel Messi, Takefusa Kubo, Kim Min Jae).\n",
        "\n",
        "2. Membuat Perbandingan Berpasangan (Pairwise Comparison) untuk kriteria :\n",
        "\n",
        "*  Menggunakan skala 1-9 untuk mengukur preferensi berdasarkan skor prioritas utama.\n",
        "\n",
        "3. Menghitung Bobot Kriteria dan Konsistensi.\n",
        "\n",
        "4. Struktur AHP Hierarchy :\n",
        "\n",
        "*   Goal : Menentukan pemain sepak bola terbaik.\n",
        "*   Kriteria : Akurasi menembak, Akurasi Passing, Skill Bertahan, dan Stamina.\n",
        "*   Alternatif :  Cristiano Ronaldo, Lionel Messi, Takefusa Kubo, Kim Min Jae.\n",
        "\n",
        "5. Hitung Vektor Prioritas :\n",
        "\n",
        "*   Memeriksa rasio konsistensi (CR) untuk memastikan bahwa penilaiannya konsisten. CR sebesar 0.1 atau kurang anggap dapat diterima.\n",
        "\n",
        "6. Agregat Bobot :\n",
        "\n",
        "*   Gabungkan bobot kriteria dan bobot alternatif untuk menentukan peringkat pemain secara keseluruhan.\n",
        "\n",
        "\n",
        "\n",
        "\n",
        "\n",
        "\n",
        "\n",
        "\n",
        "\n",
        "\n",
        "\n",
        "\n",
        "\n",
        "\n"
      ],
      "metadata": {
        "id": "EBv1zDxUEH5Y"
      }
    },
    {
      "cell_type": "markdown",
      "source": [
        "## Langkah 1 : Install Required Package."
      ],
      "metadata": {
        "id": "H4GpsiZ-JecN"
      }
    },
    {
      "cell_type": "code",
      "source": [
        "!pip install ahpy"
      ],
      "metadata": {
        "colab": {
          "base_uri": "https://localhost:8080/"
        },
        "id": "u2PcapPBJbER",
        "outputId": "56f71e4a-3202-4f7a-d3d1-ccdc3f3dde32"
      },
      "execution_count": 9,
      "outputs": [
        {
          "output_type": "stream",
          "name": "stdout",
          "text": [
            "Requirement already satisfied: ahpy in /usr/local/lib/python3.10/dist-packages (2.0)\n",
            "Requirement already satisfied: numpy in /usr/local/lib/python3.10/dist-packages (from ahpy) (1.25.2)\n",
            "Requirement already satisfied: scipy in /usr/local/lib/python3.10/dist-packages (from ahpy) (1.11.4)\n"
          ]
        }
      ]
    },
    {
      "cell_type": "markdown",
      "source": [
        "## Langkah 2 : Import Package."
      ],
      "metadata": {
        "id": "4YHbzb8sKYnh"
      }
    },
    {
      "cell_type": "code",
      "source": [
        "import ahpy\n",
        "import numpy as np\n",
        "import pandas as pd"
      ],
      "metadata": {
        "id": "l305geBmKejP"
      },
      "execution_count": 17,
      "outputs": []
    },
    {
      "cell_type": "markdown",
      "source": [
        "## Langkah 3 : Menentukan Matriks Perbandingan Berpasangan"
      ],
      "metadata": {
        "id": "2-TyxdKCK13f"
      }
    },
    {
      "cell_type": "markdown",
      "source": [
        "*   Kriteria (C)\n",
        "*   Player (P)\n",
        "*   Ranking (R)\n",
        "\n"
      ],
      "metadata": {
        "id": "ta4deZcILWNO"
      }
    },
    {
      "cell_type": "code",
      "source": [
        "criteria = {\n",
        "    ('Shooting Accuracy', 'Passing Accuracy'): 3,\n",
        "    ('Shooting Accuracy', 'Defensive Skills'): 5,\n",
        "    ('Shooting Accuracy', 'Stamina'): 7,\n",
        "    ('Passing Accuracy', 'Defensive Skills'): 2,\n",
        "    ('Passing Accuracy', 'Stamina'): 5,\n",
        "    ('Defensive Skills', 'Stamina'): 3\n",
        "}"
      ],
      "metadata": {
        "id": "OCKndXTRMWvb"
      },
      "execution_count": 18,
      "outputs": []
    },
    {
      "cell_type": "code",
      "source": [
        "# Perbandingan berpasangan untuk setiap pemain di bawah setiap kriteria\n",
        "players_shooting = {\n",
        "    ('Cristiano Ronaldo', 'Lionel Messi'): 2,\n",
        "    ('Cristiano Ronaldo', 'Takefusa Kubo'): 5,\n",
        "    ('Cristiano Ronaldo', 'Kim Min Jae'): 7,\n",
        "    ('Lionel Messi', 'Takefusa Kubo'): 3,\n",
        "    ('Lionel Messi', 'Kim Min Jae'): 5,\n",
        "    ('Takefusa Kubo', 'Kim Min Jae'): 2\n",
        "}\n",
        "\n",
        "players_passing = {\n",
        "    ('Cristiano Ronaldo', 'Lionel Messi'): 3,\n",
        "    ('Cristiano Ronaldo', 'Takefusa Kubo'): 5,\n",
        "    ('Cristiano Ronaldo', 'Kim Min Jae'): 6,\n",
        "    ('Lionel Messi', 'Takefusa Kubo'): 4,\n",
        "    ('Lionel Messi', 'Kim Min Jae'): 5,\n",
        "    ('Takefusa Kubo', 'Kim Min Jae'): 2\n",
        "}\n",
        "\n",
        "players_defensive = {\n",
        "    ('Cristiano Ronaldo', 'Lionel Messi'): 2,\n",
        "    ('Cristiano Ronaldo', 'Takefusa Kubo'): 3,\n",
        "    ('Cristiano Ronaldo', 'Kim Min Jae'): 4,\n",
        "    ('Lionel Messi', 'Takefusa Kubo'): 2,\n",
        "    ('Lionel Messi', 'Kim Min Jae'): 3,\n",
        "    ('Takefusa Kubo', 'Kim Min Jae'): 3\n",
        "}\n",
        "\n",
        "players_stamina = {\n",
        "    ('Cristiano Ronaldo', 'Lionel Messi'): 4,\n",
        "    ('Cristiano Ronaldo', 'Takefusa Kubo'): 6,\n",
        "    ('Cristiano Ronaldo', 'Kim Min Jae'): 8,\n",
        "    ('Lionel Messi', 'Takefusa Kubo'): 2,\n",
        "    ('Lionel Messi', 'Kim Min Jae'): 5,\n",
        "    ('Takefusa Kubo', 'Kim Min Jae'): 3\n",
        "}"
      ],
      "metadata": {
        "id": "RzW8fYxKM0s_"
      },
      "execution_count": 19,
      "outputs": []
    },
    {
      "cell_type": "markdown",
      "source": [
        "## Langkah 4 : Menghitung Bobot Kriteria dan Konsistensi"
      ],
      "metadata": {
        "id": "Zay82C0AOZY2"
      }
    },
    {
      "cell_type": "code",
      "source": [
        "criteria_matrix = np.array([\n",
        "    [1, 3, 5, 7],\n",
        "    [1/3, 1, 2, 5],\n",
        "    [1/5, 1/2, 1, 3],\n",
        "    [1/7, 1/5, 1/3, 1]\n",
        "])\n",
        "\n",
        "# Normalisasi Kriteria Matrix\n",
        "normalized_criteria_matrix = criteria_matrix / criteria_matrix.sum(axis=0)\n",
        "\n",
        "# Hitung vektor prioritas (bobot) untuk kriteria\n",
        "criteria_weights = normalized_criteria_matrix.mean(axis=1)\n",
        "print(\"Criteria Weights:\", criteria_weights)\n",
        "\n",
        "# Mengkalkulasikan konsistensi vektor\n",
        "consistency_vector = criteria_matrix.dot(criteria_weights)\n",
        "consistency_index = (consistency_vector / criteria_weights).mean() - len(criteria_weights)\n",
        "random_index = {1: 0.00, 2: 0.00, 3: 0.58, 4: 0.90, 5: 1.12, 6: 1.24, 7: 1.32, 8: 1.41, 9: 1.45, 10: 1.49}\n",
        "consistency_ratio = consistency_index / random_index[len(criteria_weights)]\n",
        "print(\"Consistency Ratio (CR):\", consistency_ratio)\n",
        "\n",
        "# Periksa apakah konsistensi diterima\n",
        "if consistency_ratio < 0.1:\n",
        "    print(\"Criteria is consistent.\")\n",
        "else:\n",
        "    print(\"Criteria is not consistent.\")\n"
      ],
      "metadata": {
        "colab": {
          "base_uri": "https://localhost:8080/"
        },
        "id": "OaJ2JL2APhyV",
        "outputId": "284142b3-01f3-4b4b-c076-d933f3e390cc"
      },
      "execution_count": 20,
      "outputs": [
        {
          "output_type": "stream",
          "name": "stdout",
          "text": [
            "Criteria Weights: [0.5680972  0.2410324  0.13330029 0.05757012]\n",
            "Consistency Ratio (CR): 0.08676672407943897\n",
            "Criteria is consistent.\n"
          ]
        }
      ]
    },
    {
      "cell_type": "markdown",
      "source": [
        "## Langkah 5 : Matriks Perbandingan Berpasangan Alternatif"
      ],
      "metadata": {
        "id": "FNyvjvjVia4s"
      }
    },
    {
      "cell_type": "markdown",
      "source": [
        "Untuk setiap kriteria, kita akan membuat matriks perbandingan berpasangan untuk alternatif skill player.\n",
        "Berdasarkan shooting, passing, defensive dan stamina pemain :"
      ],
      "metadata": {
        "id": "GmvxqyH7eJe1"
      }
    },
    {
      "cell_type": "code",
      "source": [
        "# Matriks perbandingan berpasangan untuk alternatif berdasarkan shooting\n",
        "players_shooting = np.array([\n",
        "    [1, 2, 5, 7],\n",
        "    [1/2, 1, 3, 5],\n",
        "    [1/5, 1/3, 1, 2],\n",
        "    [1/7, 1/5, 1/2, 1]\n",
        "])\n",
        "\n",
        "# Matriks perbandingan berpasangan untuk alternatif berdasarkan passing\n",
        "players_passing = np.array([\n",
        "    [1, 3, 5, 6],\n",
        "    [1/3, 1, 4, 5],\n",
        "    [1/5, 1/4, 1, 2],\n",
        "    [1/6, 1/5, 1/2, 1]\n",
        "])\n",
        "\n",
        "# Matriks perbandingan berpasangan untuk alternatif berdasarkan defensive\n",
        "players_defensive = np.array([\n",
        "    [1, 2, 3, 4],\n",
        "    [1/2, 1, 2, 3],\n",
        "    [1/3, 1/2, 1, 3],\n",
        "    [1/4, 1/3, 1/3, 1]\n",
        "])\n",
        "\n",
        "# Matriks perbandingan berpasangan untuk alternatif berdasarkan stamina\n",
        "players_stamina = np.array([\n",
        "    [1, 4, 6, 8],\n",
        "    [1/4, 1, 2, 5],\n",
        "    [1/6, 1/2, 1, 3],\n",
        "    [1/8, 1/5, 1/3, 1]\n",
        "])\n",
        "\n",
        "# Menghitung kalkulasi alternatif weights dan konsistensi rasio\n",
        "def calculate_weights(matrix):\n",
        "    normalized_matrix = matrix / matrix.sum(axis=0)\n",
        "    weights = normalized_matrix.mean(axis=1)\n",
        "    consistency_vector = matrix.dot(weights)\n",
        "    consistency_index = (consistency_vector / weights).mean() - len(weights)\n",
        "    consistency_ratio = consistency_index / random_index[len(weights)]\n",
        "    return weights, consistency_ratio\n",
        "\n",
        "shooting_weights, shooting_cr = calculate_weights(players_shooting)\n",
        "passing_weights, passing_cr = calculate_weights(players_passing)\n",
        "defensive_weights, defensive_cr = calculate_weights(players_defensive)\n",
        "stamina_weights, stamina_cr = calculate_weights(players_stamina)\n",
        "\n",
        "print(\"Shooting Weights:\", shooting_weights)\n",
        "print(\"Shooting Consistency Ratio:\", shooting_cr)\n",
        "print(\"Passing Weights:\", passing_weights)\n",
        "print(\"Passing Consistency Ratio:\", passing_cr)\n",
        "print(\"Defensive Weights:\", defensive_weights)\n",
        "print(\"Defensive Consistency Ratio:\", defensive_cr)\n",
        "print(\"Stamina Weights:\", stamina_weights)\n",
        "print(\"Stamina Consistency Ratio:\", stamina_cr)"
      ],
      "metadata": {
        "colab": {
          "base_uri": "https://localhost:8080/"
        },
        "id": "kMAxHteXilCc",
        "outputId": "beb71954-30b5-41b3-d98e-2917b35629ff"
      },
      "execution_count": 21,
      "outputs": [
        {
          "output_type": "stream",
          "name": "stdout",
          "text": [
            "Shooting Weights: [0.52541396 0.30086488 0.11036581 0.06335535]\n",
            "Shooting Consistency Ratio: 0.022380140906502137\n",
            "Passing Weights: [0.54178863 0.28972319 0.10298052 0.06550766]\n",
            "Passing Consistency Ratio: 0.14792547883089824\n",
            "Defensive Weights: [0.45976493 0.27234658 0.1802642  0.0876243 ]\n",
            "Defensive Consistency Ratio: 0.09826603538961365\n",
            "Stamina Weights: [0.6159621  0.21150103 0.11986021 0.05267665]\n",
            "Stamina Consistency Ratio: 0.11454207518771081\n"
          ]
        }
      ]
    },
    {
      "cell_type": "markdown",
      "source": [
        "## Langkah 6 : Menggabungkan Bobot Kriteria dan Bobot Alternatif"
      ],
      "metadata": {
        "id": "jpAWXD6MkXKf"
      }
    },
    {
      "cell_type": "code",
      "source": [
        "# Overall weights dari pemain\n",
        "overall_weights = (\n",
        "    criteria_weights[0] * shooting_weights +\n",
        "    criteria_weights[1] * passing_weights +\n",
        "    criteria_weights[2] * defensive_weights +\n",
        "    criteria_weights[3] * stamina_weights\n",
        ")\n",
        "\n",
        "print(\"Overall Weights of Players:\", overall_weights)\n",
        "\n",
        "# Rank pemain dari basis overall weights\n",
        "players = ['Cristiano Ronaldo', 'Lionel Messi', 'Takefusa Kubo', 'Kim Min Jae']\n",
        "ranking = sorted(zip(players, overall_weights), key=lambda x: x[1], reverse=True)\n",
        "print(\"Ranking of Players:\")\n",
        "for player, weight in ranking:\n",
        "    print(f\"{player}: {weight:.4f}\")\n",
        "\n",
        "# Menentukan pemain terbaik dengan skor tertinggi\n",
        "best_alternative = ranking[0]\n",
        "print(f\"Best Alternative (Player with highest score): {best_alternative[0]} with score {best_alternative[1]:.4f}\")"
      ],
      "metadata": {
        "colab": {
          "base_uri": "https://localhost:8080/"
        },
        "id": "iKJSff8ekdkD",
        "outputId": "107642a0-24b9-4c6f-bc1c-454afc1622ce"
      },
      "execution_count": 22,
      "outputs": [
        {
          "output_type": "stream",
          "name": "stdout",
          "text": [
            "Overall Weights of Players: [0.52582262 0.28923319 0.11844979 0.06649441]\n",
            "Ranking of Players:\n",
            "Cristiano Ronaldo: 0.5258\n",
            "Lionel Messi: 0.2892\n",
            "Takefusa Kubo: 0.1184\n",
            "Kim Min Jae: 0.0665\n",
            "Best Alternative (Player with highest score): Cristiano Ronaldo with score 0.5258\n"
          ]
        }
      ]
    },
    {
      "cell_type": "markdown",
      "source": [
        "## Kesimpulan"
      ],
      "metadata": {
        "id": "Z0JKxSEG2c5v"
      }
    },
    {
      "cell_type": "code",
      "source": [
        "# Menggunakan dataframe\n",
        "df_criteria = pd.DataFrame({\n",
        "    'Criteria': ['Shooting Accuracy', 'Passing Accuracy', 'Defensive Skills', 'Stamina'],\n",
        "    'Weights': criteria_weights\n",
        "})\n",
        "\n",
        "df_players = pd.DataFrame({\n",
        "    'Player': players,\n",
        "    'Shooting Weight': shooting_weights,\n",
        "    'Passing Weight': passing_weights,\n",
        "    'Defensive Weight': defensive_weights,\n",
        "    'Stamina Weight': stamina_weights,\n",
        "    'Overall Weight': overall_weights\n",
        "})\n",
        "\n",
        "df_ranking = pd.DataFrame(ranking, columns=['Player', 'Overall Weight'])\n",
        "df_criteria\n",
        "df_players\n",
        "df_ranking"
      ],
      "metadata": {
        "colab": {
          "base_uri": "https://localhost:8080/",
          "height": 175
        },
        "id": "9pvu-yzb7BN3",
        "outputId": "8d12fa22-6565-4f56-ec05-ccbcfcaca9e9"
      },
      "execution_count": 23,
      "outputs": [
        {
          "output_type": "execute_result",
          "data": {
            "text/plain": [
              "              Player  Overall Weight\n",
              "0  Cristiano Ronaldo        0.525823\n",
              "1       Lionel Messi        0.289233\n",
              "2      Takefusa Kubo        0.118450\n",
              "3        Kim Min Jae        0.066494"
            ],
            "text/html": [
              "\n",
              "  <div id=\"df-b3f2b665-e620-4e36-b045-98a9d857d3c6\" class=\"colab-df-container\">\n",
              "    <div>\n",
              "<style scoped>\n",
              "    .dataframe tbody tr th:only-of-type {\n",
              "        vertical-align: middle;\n",
              "    }\n",
              "\n",
              "    .dataframe tbody tr th {\n",
              "        vertical-align: top;\n",
              "    }\n",
              "\n",
              "    .dataframe thead th {\n",
              "        text-align: right;\n",
              "    }\n",
              "</style>\n",
              "<table border=\"1\" class=\"dataframe\">\n",
              "  <thead>\n",
              "    <tr style=\"text-align: right;\">\n",
              "      <th></th>\n",
              "      <th>Player</th>\n",
              "      <th>Overall Weight</th>\n",
              "    </tr>\n",
              "  </thead>\n",
              "  <tbody>\n",
              "    <tr>\n",
              "      <th>0</th>\n",
              "      <td>Cristiano Ronaldo</td>\n",
              "      <td>0.525823</td>\n",
              "    </tr>\n",
              "    <tr>\n",
              "      <th>1</th>\n",
              "      <td>Lionel Messi</td>\n",
              "      <td>0.289233</td>\n",
              "    </tr>\n",
              "    <tr>\n",
              "      <th>2</th>\n",
              "      <td>Takefusa Kubo</td>\n",
              "      <td>0.118450</td>\n",
              "    </tr>\n",
              "    <tr>\n",
              "      <th>3</th>\n",
              "      <td>Kim Min Jae</td>\n",
              "      <td>0.066494</td>\n",
              "    </tr>\n",
              "  </tbody>\n",
              "</table>\n",
              "</div>\n",
              "    <div class=\"colab-df-buttons\">\n",
              "\n",
              "  <div class=\"colab-df-container\">\n",
              "    <button class=\"colab-df-convert\" onclick=\"convertToInteractive('df-b3f2b665-e620-4e36-b045-98a9d857d3c6')\"\n",
              "            title=\"Convert this dataframe to an interactive table.\"\n",
              "            style=\"display:none;\">\n",
              "\n",
              "  <svg xmlns=\"http://www.w3.org/2000/svg\" height=\"24px\" viewBox=\"0 -960 960 960\">\n",
              "    <path d=\"M120-120v-720h720v720H120Zm60-500h600v-160H180v160Zm220 220h160v-160H400v160Zm0 220h160v-160H400v160ZM180-400h160v-160H180v160Zm440 0h160v-160H620v160ZM180-180h160v-160H180v160Zm440 0h160v-160H620v160Z\"/>\n",
              "  </svg>\n",
              "    </button>\n",
              "\n",
              "  <style>\n",
              "    .colab-df-container {\n",
              "      display:flex;\n",
              "      gap: 12px;\n",
              "    }\n",
              "\n",
              "    .colab-df-convert {\n",
              "      background-color: #E8F0FE;\n",
              "      border: none;\n",
              "      border-radius: 50%;\n",
              "      cursor: pointer;\n",
              "      display: none;\n",
              "      fill: #1967D2;\n",
              "      height: 32px;\n",
              "      padding: 0 0 0 0;\n",
              "      width: 32px;\n",
              "    }\n",
              "\n",
              "    .colab-df-convert:hover {\n",
              "      background-color: #E2EBFA;\n",
              "      box-shadow: 0px 1px 2px rgba(60, 64, 67, 0.3), 0px 1px 3px 1px rgba(60, 64, 67, 0.15);\n",
              "      fill: #174EA6;\n",
              "    }\n",
              "\n",
              "    .colab-df-buttons div {\n",
              "      margin-bottom: 4px;\n",
              "    }\n",
              "\n",
              "    [theme=dark] .colab-df-convert {\n",
              "      background-color: #3B4455;\n",
              "      fill: #D2E3FC;\n",
              "    }\n",
              "\n",
              "    [theme=dark] .colab-df-convert:hover {\n",
              "      background-color: #434B5C;\n",
              "      box-shadow: 0px 1px 3px 1px rgba(0, 0, 0, 0.15);\n",
              "      filter: drop-shadow(0px 1px 2px rgba(0, 0, 0, 0.3));\n",
              "      fill: #FFFFFF;\n",
              "    }\n",
              "  </style>\n",
              "\n",
              "    <script>\n",
              "      const buttonEl =\n",
              "        document.querySelector('#df-b3f2b665-e620-4e36-b045-98a9d857d3c6 button.colab-df-convert');\n",
              "      buttonEl.style.display =\n",
              "        google.colab.kernel.accessAllowed ? 'block' : 'none';\n",
              "\n",
              "      async function convertToInteractive(key) {\n",
              "        const element = document.querySelector('#df-b3f2b665-e620-4e36-b045-98a9d857d3c6');\n",
              "        const dataTable =\n",
              "          await google.colab.kernel.invokeFunction('convertToInteractive',\n",
              "                                                    [key], {});\n",
              "        if (!dataTable) return;\n",
              "\n",
              "        const docLinkHtml = 'Like what you see? Visit the ' +\n",
              "          '<a target=\"_blank\" href=https://colab.research.google.com/notebooks/data_table.ipynb>data table notebook</a>'\n",
              "          + ' to learn more about interactive tables.';\n",
              "        element.innerHTML = '';\n",
              "        dataTable['output_type'] = 'display_data';\n",
              "        await google.colab.output.renderOutput(dataTable, element);\n",
              "        const docLink = document.createElement('div');\n",
              "        docLink.innerHTML = docLinkHtml;\n",
              "        element.appendChild(docLink);\n",
              "      }\n",
              "    </script>\n",
              "  </div>\n",
              "\n",
              "\n",
              "<div id=\"df-0a9bec5f-46c4-4076-91e9-521430138042\">\n",
              "  <button class=\"colab-df-quickchart\" onclick=\"quickchart('df-0a9bec5f-46c4-4076-91e9-521430138042')\"\n",
              "            title=\"Suggest charts\"\n",
              "            style=\"display:none;\">\n",
              "\n",
              "<svg xmlns=\"http://www.w3.org/2000/svg\" height=\"24px\"viewBox=\"0 0 24 24\"\n",
              "     width=\"24px\">\n",
              "    <g>\n",
              "        <path d=\"M19 3H5c-1.1 0-2 .9-2 2v14c0 1.1.9 2 2 2h14c1.1 0 2-.9 2-2V5c0-1.1-.9-2-2-2zM9 17H7v-7h2v7zm4 0h-2V7h2v10zm4 0h-2v-4h2v4z\"/>\n",
              "    </g>\n",
              "</svg>\n",
              "  </button>\n",
              "\n",
              "<style>\n",
              "  .colab-df-quickchart {\n",
              "      --bg-color: #E8F0FE;\n",
              "      --fill-color: #1967D2;\n",
              "      --hover-bg-color: #E2EBFA;\n",
              "      --hover-fill-color: #174EA6;\n",
              "      --disabled-fill-color: #AAA;\n",
              "      --disabled-bg-color: #DDD;\n",
              "  }\n",
              "\n",
              "  [theme=dark] .colab-df-quickchart {\n",
              "      --bg-color: #3B4455;\n",
              "      --fill-color: #D2E3FC;\n",
              "      --hover-bg-color: #434B5C;\n",
              "      --hover-fill-color: #FFFFFF;\n",
              "      --disabled-bg-color: #3B4455;\n",
              "      --disabled-fill-color: #666;\n",
              "  }\n",
              "\n",
              "  .colab-df-quickchart {\n",
              "    background-color: var(--bg-color);\n",
              "    border: none;\n",
              "    border-radius: 50%;\n",
              "    cursor: pointer;\n",
              "    display: none;\n",
              "    fill: var(--fill-color);\n",
              "    height: 32px;\n",
              "    padding: 0;\n",
              "    width: 32px;\n",
              "  }\n",
              "\n",
              "  .colab-df-quickchart:hover {\n",
              "    background-color: var(--hover-bg-color);\n",
              "    box-shadow: 0 1px 2px rgba(60, 64, 67, 0.3), 0 1px 3px 1px rgba(60, 64, 67, 0.15);\n",
              "    fill: var(--button-hover-fill-color);\n",
              "  }\n",
              "\n",
              "  .colab-df-quickchart-complete:disabled,\n",
              "  .colab-df-quickchart-complete:disabled:hover {\n",
              "    background-color: var(--disabled-bg-color);\n",
              "    fill: var(--disabled-fill-color);\n",
              "    box-shadow: none;\n",
              "  }\n",
              "\n",
              "  .colab-df-spinner {\n",
              "    border: 2px solid var(--fill-color);\n",
              "    border-color: transparent;\n",
              "    border-bottom-color: var(--fill-color);\n",
              "    animation:\n",
              "      spin 1s steps(1) infinite;\n",
              "  }\n",
              "\n",
              "  @keyframes spin {\n",
              "    0% {\n",
              "      border-color: transparent;\n",
              "      border-bottom-color: var(--fill-color);\n",
              "      border-left-color: var(--fill-color);\n",
              "    }\n",
              "    20% {\n",
              "      border-color: transparent;\n",
              "      border-left-color: var(--fill-color);\n",
              "      border-top-color: var(--fill-color);\n",
              "    }\n",
              "    30% {\n",
              "      border-color: transparent;\n",
              "      border-left-color: var(--fill-color);\n",
              "      border-top-color: var(--fill-color);\n",
              "      border-right-color: var(--fill-color);\n",
              "    }\n",
              "    40% {\n",
              "      border-color: transparent;\n",
              "      border-right-color: var(--fill-color);\n",
              "      border-top-color: var(--fill-color);\n",
              "    }\n",
              "    60% {\n",
              "      border-color: transparent;\n",
              "      border-right-color: var(--fill-color);\n",
              "    }\n",
              "    80% {\n",
              "      border-color: transparent;\n",
              "      border-right-color: var(--fill-color);\n",
              "      border-bottom-color: var(--fill-color);\n",
              "    }\n",
              "    90% {\n",
              "      border-color: transparent;\n",
              "      border-bottom-color: var(--fill-color);\n",
              "    }\n",
              "  }\n",
              "</style>\n",
              "\n",
              "  <script>\n",
              "    async function quickchart(key) {\n",
              "      const quickchartButtonEl =\n",
              "        document.querySelector('#' + key + ' button');\n",
              "      quickchartButtonEl.disabled = true;  // To prevent multiple clicks.\n",
              "      quickchartButtonEl.classList.add('colab-df-spinner');\n",
              "      try {\n",
              "        const charts = await google.colab.kernel.invokeFunction(\n",
              "            'suggestCharts', [key], {});\n",
              "      } catch (error) {\n",
              "        console.error('Error during call to suggestCharts:', error);\n",
              "      }\n",
              "      quickchartButtonEl.classList.remove('colab-df-spinner');\n",
              "      quickchartButtonEl.classList.add('colab-df-quickchart-complete');\n",
              "    }\n",
              "    (() => {\n",
              "      let quickchartButtonEl =\n",
              "        document.querySelector('#df-0a9bec5f-46c4-4076-91e9-521430138042 button');\n",
              "      quickchartButtonEl.style.display =\n",
              "        google.colab.kernel.accessAllowed ? 'block' : 'none';\n",
              "    })();\n",
              "  </script>\n",
              "</div>\n",
              "\n",
              "  <div id=\"id_812ebc7d-8420-4177-b8df-c258c0573c51\">\n",
              "    <style>\n",
              "      .colab-df-generate {\n",
              "        background-color: #E8F0FE;\n",
              "        border: none;\n",
              "        border-radius: 50%;\n",
              "        cursor: pointer;\n",
              "        display: none;\n",
              "        fill: #1967D2;\n",
              "        height: 32px;\n",
              "        padding: 0 0 0 0;\n",
              "        width: 32px;\n",
              "      }\n",
              "\n",
              "      .colab-df-generate:hover {\n",
              "        background-color: #E2EBFA;\n",
              "        box-shadow: 0px 1px 2px rgba(60, 64, 67, 0.3), 0px 1px 3px 1px rgba(60, 64, 67, 0.15);\n",
              "        fill: #174EA6;\n",
              "      }\n",
              "\n",
              "      [theme=dark] .colab-df-generate {\n",
              "        background-color: #3B4455;\n",
              "        fill: #D2E3FC;\n",
              "      }\n",
              "\n",
              "      [theme=dark] .colab-df-generate:hover {\n",
              "        background-color: #434B5C;\n",
              "        box-shadow: 0px 1px 3px 1px rgba(0, 0, 0, 0.15);\n",
              "        filter: drop-shadow(0px 1px 2px rgba(0, 0, 0, 0.3));\n",
              "        fill: #FFFFFF;\n",
              "      }\n",
              "    </style>\n",
              "    <button class=\"colab-df-generate\" onclick=\"generateWithVariable('df_ranking')\"\n",
              "            title=\"Generate code using this dataframe.\"\n",
              "            style=\"display:none;\">\n",
              "\n",
              "  <svg xmlns=\"http://www.w3.org/2000/svg\" height=\"24px\"viewBox=\"0 0 24 24\"\n",
              "       width=\"24px\">\n",
              "    <path d=\"M7,19H8.4L18.45,9,17,7.55,7,17.6ZM5,21V16.75L18.45,3.32a2,2,0,0,1,2.83,0l1.4,1.43a1.91,1.91,0,0,1,.58,1.4,1.91,1.91,0,0,1-.58,1.4L9.25,21ZM18.45,9,17,7.55Zm-12,3A5.31,5.31,0,0,0,4.9,8.1,5.31,5.31,0,0,0,1,6.5,5.31,5.31,0,0,0,4.9,4.9,5.31,5.31,0,0,0,6.5,1,5.31,5.31,0,0,0,8.1,4.9,5.31,5.31,0,0,0,12,6.5,5.46,5.46,0,0,0,6.5,12Z\"/>\n",
              "  </svg>\n",
              "    </button>\n",
              "    <script>\n",
              "      (() => {\n",
              "      const buttonEl =\n",
              "        document.querySelector('#id_812ebc7d-8420-4177-b8df-c258c0573c51 button.colab-df-generate');\n",
              "      buttonEl.style.display =\n",
              "        google.colab.kernel.accessAllowed ? 'block' : 'none';\n",
              "\n",
              "      buttonEl.onclick = () => {\n",
              "        google.colab.notebook.generateWithVariable('df_ranking');\n",
              "      }\n",
              "      })();\n",
              "    </script>\n",
              "  </div>\n",
              "\n",
              "    </div>\n",
              "  </div>\n"
            ],
            "application/vnd.google.colaboratory.intrinsic+json": {
              "type": "dataframe",
              "variable_name": "df_ranking",
              "summary": "{\n  \"name\": \"df_ranking\",\n  \"rows\": 4,\n  \"fields\": [\n    {\n      \"column\": \"Player\",\n      \"properties\": {\n        \"dtype\": \"string\",\n        \"num_unique_values\": 4,\n        \"samples\": [\n          \"Lionel Messi\",\n          \"Kim Min Jae\",\n          \"Cristiano Ronaldo\"\n        ],\n        \"semantic_type\": \"\",\n        \"description\": \"\"\n      }\n    },\n    {\n      \"column\": \"Overall Weight\",\n      \"properties\": {\n        \"dtype\": \"number\",\n        \"std\": 0.20704035004228485,\n        \"min\": 0.06649441122815986,\n        \"max\": 0.5258226183156697,\n        \"num_unique_values\": 4,\n        \"samples\": [\n          0.2892331850003291,\n          0.06649441122815986,\n          0.5258226183156697\n        ],\n        \"semantic_type\": \"\",\n        \"description\": \"\"\n      }\n    }\n  ]\n}"
            }
          },
          "metadata": {},
          "execution_count": 23
        }
      ]
    },
    {
      "cell_type": "markdown",
      "source": [
        "Dengan menggunakan kode di atas, Kita dapat melakukan analisis AHP dengan menentukan pemain bola terbaik dari seorang pelatih klub sepak bola. Melalui rasio konsistensi (CR) untuk memastikan bahwa perbandingan berpasangan yang dilakukan adalah konsisten. Berdasarkan kriteria, maka best alternative atau alternatif terbaik dalam pemain bola terbaik adalah **Cristiano Ronaldo dengan score 0.525823 **"
      ],
      "metadata": {
        "id": "z2obU_TN72Ge"
      }
    }
  ]
}